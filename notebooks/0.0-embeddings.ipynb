{
 "cells": [
  {
   "cell_type": "code",
   "execution_count": 117,
   "metadata": {},
   "outputs": [],
   "source": [
    "import re\n",
    "import pandas as pd\n",
    "import torch\n",
    "from datasets import Dataset\n",
    "from sentence_transformers import SentenceTransformer\n",
    "from sentence_transformers.util import semantic_search"
   ]
  },
  {
   "cell_type": "code",
   "execution_count": 118,
   "metadata": {},
   "outputs": [],
   "source": [
    "model = SentenceTransformer(\"sentence-transformers/gtr-t5-large\")"
   ]
  },
  {
   "cell_type": "code",
   "execution_count": 119,
   "metadata": {},
   "outputs": [],
   "source": [
    "df = pd.read_csv('../data/raw/foia_sample.csv')\n",
    "df.rename(columns = {'DEPENDENCIA': 'dependencia', 'DESCRIPCIONSOLICITUD': 'solicitud'}, inplace = True)"
   ]
  },
  {
   "cell_type": "code",
   "execution_count": 120,
   "metadata": {},
   "outputs": [
    {
     "data": {
      "text/html": [
       "<div>\n",
       "<style scoped>\n",
       "    .dataframe tbody tr th:only-of-type {\n",
       "        vertical-align: middle;\n",
       "    }\n",
       "\n",
       "    .dataframe tbody tr th {\n",
       "        vertical-align: top;\n",
       "    }\n",
       "\n",
       "    .dataframe thead th {\n",
       "        text-align: right;\n",
       "    }\n",
       "</style>\n",
       "<table border=\"1\" class=\"dataframe\">\n",
       "  <thead>\n",
       "    <tr style=\"text-align: right;\">\n",
       "      <th></th>\n",
       "      <th>dependencia</th>\n",
       "      <th>solicitud</th>\n",
       "    </tr>\n",
       "  </thead>\n",
       "  <tbody>\n",
       "    <tr>\n",
       "      <th>0</th>\n",
       "      <td>Municipio De Asientos</td>\n",
       "      <td>1. deseo conocer si actualmente la administrac...</td>\n",
       "    </tr>\n",
       "    <tr>\n",
       "      <th>1</th>\n",
       "      <td>Patronato De La Feria Nacional De San Marcos</td>\n",
       "      <td>descripción solicitud</td>\n",
       "    </tr>\n",
       "    <tr>\n",
       "      <th>2</th>\n",
       "      <td>H.Congreso Del Estado De Aguascalientes</td>\n",
       "      <td>solicito se me proporcione copia de la versión...</td>\n",
       "    </tr>\n",
       "    <tr>\n",
       "      <th>3</th>\n",
       "      <td>Municipio De Pabellón De Arteaga</td>\n",
       "      <td>cuáles programas sociales de llevaron a cabo d...</td>\n",
       "    </tr>\n",
       "    <tr>\n",
       "      <th>4</th>\n",
       "      <td>Secretaría Desarrollo Social</td>\n",
       "      <td>solicito al instituto aguascalentense de las m...</td>\n",
       "    </tr>\n",
       "    <tr>\n",
       "      <th>...</th>\n",
       "      <td>...</td>\n",
       "      <td>...</td>\n",
       "    </tr>\n",
       "    <tr>\n",
       "      <th>2878</th>\n",
       "      <td>Comision De Agua Potable, Alcantarillado Y San...</td>\n",
       "      <td>solicito copia de los contratos vigentes forma...</td>\n",
       "    </tr>\n",
       "    <tr>\n",
       "      <th>2879</th>\n",
       "      <td>Colegio De Estudios Científicos Y Tecnológicos...</td>\n",
       "      <td>solicito copia de los contratos vigentes forma...</td>\n",
       "    </tr>\n",
       "    <tr>\n",
       "      <th>2880</th>\n",
       "      <td>Colegio De Educación Profesional Técnica Del E...</td>\n",
       "      <td>solicito copia de los contratos vigentes forma...</td>\n",
       "    </tr>\n",
       "    <tr>\n",
       "      <th>2881</th>\n",
       "      <td>Centro De Conciliación Laboral Del Estado De A...</td>\n",
       "      <td>solicito copia de los contratos vigentes forma...</td>\n",
       "    </tr>\n",
       "    <tr>\n",
       "      <th>2882</th>\n",
       "      <td>Procuraduría Estatal De Protección Al Ambiente...</td>\n",
       "      <td>si cuenta con gente comisionada favor de indic...</td>\n",
       "    </tr>\n",
       "  </tbody>\n",
       "</table>\n",
       "<p>2883 rows × 2 columns</p>\n",
       "</div>"
      ],
      "text/plain": [
       "                                            dependencia  \\\n",
       "0                                 Municipio De Asientos   \n",
       "1          Patronato De La Feria Nacional De San Marcos   \n",
       "2               H.Congreso Del Estado De Aguascalientes   \n",
       "3                      Municipio De Pabellón De Arteaga   \n",
       "4                          Secretaría Desarrollo Social   \n",
       "...                                                 ...   \n",
       "2878  Comision De Agua Potable, Alcantarillado Y San...   \n",
       "2879  Colegio De Estudios Científicos Y Tecnológicos...   \n",
       "2880  Colegio De Educación Profesional Técnica Del E...   \n",
       "2881  Centro De Conciliación Laboral Del Estado De A...   \n",
       "2882  Procuraduría Estatal De Protección Al Ambiente...   \n",
       "\n",
       "                                              solicitud  \n",
       "0     1. deseo conocer si actualmente la administrac...  \n",
       "1                                 descripción solicitud  \n",
       "2     solicito se me proporcione copia de la versión...  \n",
       "3     cuáles programas sociales de llevaron a cabo d...  \n",
       "4     solicito al instituto aguascalentense de las m...  \n",
       "...                                                 ...  \n",
       "2878  solicito copia de los contratos vigentes forma...  \n",
       "2879  solicito copia de los contratos vigentes forma...  \n",
       "2880  solicito copia de los contratos vigentes forma...  \n",
       "2881  solicito copia de los contratos vigentes forma...  \n",
       "2882  si cuenta con gente comisionada favor de indic...  \n",
       "\n",
       "[2883 rows x 2 columns]"
      ]
     },
     "execution_count": 120,
     "metadata": {},
     "output_type": "execute_result"
    }
   ],
   "source": [
    "df['dependencia'] = df['dependencia'].str.title()\n",
    "df['solicitud'] = df['solicitud'].str.lower()\n",
    "df['solicitud'] = df['solicitud'].apply(lambda x: re.sub(r'\\n', '', x))\n",
    "df"
   ]
  },
  {
   "cell_type": "code",
   "execution_count": 136,
   "metadata": {},
   "outputs": [
    {
     "data": {
      "text/html": [
       "<div>\n",
       "<style scoped>\n",
       "    .dataframe tbody tr th:only-of-type {\n",
       "        vertical-align: middle;\n",
       "    }\n",
       "\n",
       "    .dataframe tbody tr th {\n",
       "        vertical-align: top;\n",
       "    }\n",
       "\n",
       "    .dataframe thead th {\n",
       "        text-align: right;\n",
       "    }\n",
       "</style>\n",
       "<table border=\"1\" class=\"dataframe\">\n",
       "  <thead>\n",
       "    <tr style=\"text-align: right;\">\n",
       "      <th></th>\n",
       "      <th>dependencia</th>\n",
       "      <th>solicitud</th>\n",
       "      <th>combined</th>\n",
       "    </tr>\n",
       "  </thead>\n",
       "  <tbody>\n",
       "    <tr>\n",
       "      <th>0</th>\n",
       "      <td>Municipio De Asientos</td>\n",
       "      <td>1. deseo conocer si actualmente la administrac...</td>\n",
       "      <td>Solicitud: 1. deseo conocer si actualmente la ...</td>\n",
       "    </tr>\n",
       "    <tr>\n",
       "      <th>1</th>\n",
       "      <td>Patronato De La Feria Nacional De San Marcos</td>\n",
       "      <td>descripción solicitud</td>\n",
       "      <td>Solicitud: descripción solicitudDependencia:Pa...</td>\n",
       "    </tr>\n",
       "    <tr>\n",
       "      <th>2</th>\n",
       "      <td>H.Congreso Del Estado De Aguascalientes</td>\n",
       "      <td>solicito se me proporcione copia de la versión...</td>\n",
       "      <td>Solicitud: solicito se me proporcione copia de...</td>\n",
       "    </tr>\n",
       "    <tr>\n",
       "      <th>3</th>\n",
       "      <td>Municipio De Pabellón De Arteaga</td>\n",
       "      <td>cuáles programas sociales de llevaron a cabo d...</td>\n",
       "      <td>Solicitud: cuáles programas sociales de llevar...</td>\n",
       "    </tr>\n",
       "    <tr>\n",
       "      <th>4</th>\n",
       "      <td>Secretaría Desarrollo Social</td>\n",
       "      <td>solicito al instituto aguascalentense de las m...</td>\n",
       "      <td>Solicitud: solicito al instituto aguascalenten...</td>\n",
       "    </tr>\n",
       "    <tr>\n",
       "      <th>...</th>\n",
       "      <td>...</td>\n",
       "      <td>...</td>\n",
       "      <td>...</td>\n",
       "    </tr>\n",
       "    <tr>\n",
       "      <th>2878</th>\n",
       "      <td>Comision De Agua Potable, Alcantarillado Y San...</td>\n",
       "      <td>solicito copia de los contratos vigentes forma...</td>\n",
       "      <td>Solicitud: solicito copia de los contratos vig...</td>\n",
       "    </tr>\n",
       "    <tr>\n",
       "      <th>2879</th>\n",
       "      <td>Colegio De Estudios Científicos Y Tecnológicos...</td>\n",
       "      <td>solicito copia de los contratos vigentes forma...</td>\n",
       "      <td>Solicitud: solicito copia de los contratos vig...</td>\n",
       "    </tr>\n",
       "    <tr>\n",
       "      <th>2880</th>\n",
       "      <td>Colegio De Educación Profesional Técnica Del E...</td>\n",
       "      <td>solicito copia de los contratos vigentes forma...</td>\n",
       "      <td>Solicitud: solicito copia de los contratos vig...</td>\n",
       "    </tr>\n",
       "    <tr>\n",
       "      <th>2881</th>\n",
       "      <td>Centro De Conciliación Laboral Del Estado De A...</td>\n",
       "      <td>solicito copia de los contratos vigentes forma...</td>\n",
       "      <td>Solicitud: solicito copia de los contratos vig...</td>\n",
       "    </tr>\n",
       "    <tr>\n",
       "      <th>2882</th>\n",
       "      <td>Procuraduría Estatal De Protección Al Ambiente...</td>\n",
       "      <td>si cuenta con gente comisionada favor de indic...</td>\n",
       "      <td>Solicitud: si cuenta con gente comisionada fav...</td>\n",
       "    </tr>\n",
       "  </tbody>\n",
       "</table>\n",
       "<p>2883 rows × 3 columns</p>\n",
       "</div>"
      ],
      "text/plain": [
       "                                            dependencia  \\\n",
       "0                                 Municipio De Asientos   \n",
       "1          Patronato De La Feria Nacional De San Marcos   \n",
       "2               H.Congreso Del Estado De Aguascalientes   \n",
       "3                      Municipio De Pabellón De Arteaga   \n",
       "4                          Secretaría Desarrollo Social   \n",
       "...                                                 ...   \n",
       "2878  Comision De Agua Potable, Alcantarillado Y San...   \n",
       "2879  Colegio De Estudios Científicos Y Tecnológicos...   \n",
       "2880  Colegio De Educación Profesional Técnica Del E...   \n",
       "2881  Centro De Conciliación Laboral Del Estado De A...   \n",
       "2882  Procuraduría Estatal De Protección Al Ambiente...   \n",
       "\n",
       "                                              solicitud  \\\n",
       "0     1. deseo conocer si actualmente la administrac...   \n",
       "1                                 descripción solicitud   \n",
       "2     solicito se me proporcione copia de la versión...   \n",
       "3     cuáles programas sociales de llevaron a cabo d...   \n",
       "4     solicito al instituto aguascalentense de las m...   \n",
       "...                                                 ...   \n",
       "2878  solicito copia de los contratos vigentes forma...   \n",
       "2879  solicito copia de los contratos vigentes forma...   \n",
       "2880  solicito copia de los contratos vigentes forma...   \n",
       "2881  solicito copia de los contratos vigentes forma...   \n",
       "2882  si cuenta con gente comisionada favor de indic...   \n",
       "\n",
       "                                               combined  \n",
       "0     Solicitud: 1. deseo conocer si actualmente la ...  \n",
       "1     Solicitud: descripción solicitudDependencia:Pa...  \n",
       "2     Solicitud: solicito se me proporcione copia de...  \n",
       "3     Solicitud: cuáles programas sociales de llevar...  \n",
       "4     Solicitud: solicito al instituto aguascalenten...  \n",
       "...                                                 ...  \n",
       "2878  Solicitud: solicito copia de los contratos vig...  \n",
       "2879  Solicitud: solicito copia de los contratos vig...  \n",
       "2880  Solicitud: solicito copia de los contratos vig...  \n",
       "2881  Solicitud: solicito copia de los contratos vig...  \n",
       "2882  Solicitud: si cuenta con gente comisionada fav...  \n",
       "\n",
       "[2883 rows x 3 columns]"
      ]
     },
     "execution_count": 136,
     "metadata": {},
     "output_type": "execute_result"
    }
   ],
   "source": [
    "df['combined'] = \"Solicitud: \" + df['solicitud'] + \"Dependencia:\" + df['dependencia']\n",
    "df.to_csv('../data/processed/foia_sample.csv', index=False)\n",
    "df"
   ]
  },
  {
   "cell_type": "code",
   "execution_count": 122,
   "metadata": {},
   "outputs": [
    {
     "data": {
      "text/html": [
       "<div>\n",
       "<style scoped>\n",
       "    .dataframe tbody tr th:only-of-type {\n",
       "        vertical-align: middle;\n",
       "    }\n",
       "\n",
       "    .dataframe tbody tr th {\n",
       "        vertical-align: top;\n",
       "    }\n",
       "\n",
       "    .dataframe thead th {\n",
       "        text-align: right;\n",
       "    }\n",
       "</style>\n",
       "<table border=\"1\" class=\"dataframe\">\n",
       "  <thead>\n",
       "    <tr style=\"text-align: right;\">\n",
       "      <th></th>\n",
       "      <th>dependencia</th>\n",
       "      <th>solicitud</th>\n",
       "      <th>combined</th>\n",
       "    </tr>\n",
       "  </thead>\n",
       "  <tbody>\n",
       "    <tr>\n",
       "      <th>784</th>\n",
       "      <td>Instituto Estatal Electoral Aguascalientes</td>\n",
       "      <td>cantidad que por concepto de sueldo recibe su ...</td>\n",
       "      <td>Solicitud: cantidad que por concepto de sueldo...</td>\n",
       "    </tr>\n",
       "    <tr>\n",
       "      <th>183</th>\n",
       "      <td>Secretaría De Sustentabilidad, Medio Ambiente ...</td>\n",
       "      <td>descripción solicitud</td>\n",
       "      <td>Solicitud: descripción solicitudDependencia:Se...</td>\n",
       "    </tr>\n",
       "    <tr>\n",
       "      <th>1841</th>\n",
       "      <td>Instituto De Infraestructura Física Educativa ...</td>\n",
       "      <td>solicito información sobre su dependencia cuán...</td>\n",
       "      <td>Solicitud: solicito información sobre su depen...</td>\n",
       "    </tr>\n",
       "    <tr>\n",
       "      <th>1586</th>\n",
       "      <td>Instituto De Servicios De Salud Del Estado De ...</td>\n",
       "      <td>descripción solicitud</td>\n",
       "      <td>Solicitud: descripción solicitudDependencia:In...</td>\n",
       "    </tr>\n",
       "    <tr>\n",
       "      <th>795</th>\n",
       "      <td>Secretaría General De Gobierno</td>\n",
       "      <td>solicito me informe, żcuántas víctimas directa...</td>\n",
       "      <td>Solicitud: solicito me informe, żcuántas vícti...</td>\n",
       "    </tr>\n",
       "    <tr>\n",
       "      <th>...</th>\n",
       "      <td>...</td>\n",
       "      <td>...</td>\n",
       "      <td>...</td>\n",
       "    </tr>\n",
       "    <tr>\n",
       "      <th>619</th>\n",
       "      <td>Secretaría De Salud</td>\n",
       "      <td>solicito una relación en formato abierto (.xls...</td>\n",
       "      <td>Solicitud: solicito una relación en formato ab...</td>\n",
       "    </tr>\n",
       "    <tr>\n",
       "      <th>1115</th>\n",
       "      <td>Partido Verde Ecologista De México</td>\n",
       "      <td>descripción solicitud</td>\n",
       "      <td>Solicitud: descripción solicitudDependencia:Pa...</td>\n",
       "    </tr>\n",
       "    <tr>\n",
       "      <th>654</th>\n",
       "      <td>Instituto Municipal Aguascalentense Para La Cu...</td>\n",
       "      <td>buenos días, quisiera saber a cuanto ascienden...</td>\n",
       "      <td>Solicitud: buenos días, quisiera saber a cuant...</td>\n",
       "    </tr>\n",
       "    <tr>\n",
       "      <th>1193</th>\n",
       "      <td>Partido Del  Trabajo</td>\n",
       "      <td>buenos días, quisiera conocer su aviso de priv...</td>\n",
       "      <td>Solicitud: buenos días, quisiera conocer su av...</td>\n",
       "    </tr>\n",
       "    <tr>\n",
       "      <th>1658</th>\n",
       "      <td>Instituto De Infraestructura Física Educativa ...</td>\n",
       "      <td>buenos días, quisiera conocer su aviso de priv...</td>\n",
       "      <td>Solicitud: buenos días, quisiera conocer su av...</td>\n",
       "    </tr>\n",
       "  </tbody>\n",
       "</table>\n",
       "<p>2306 rows × 3 columns</p>\n",
       "</div>"
      ],
      "text/plain": [
       "                                            dependencia  \\\n",
       "784          Instituto Estatal Electoral Aguascalientes   \n",
       "183   Secretaría De Sustentabilidad, Medio Ambiente ...   \n",
       "1841  Instituto De Infraestructura Física Educativa ...   \n",
       "1586  Instituto De Servicios De Salud Del Estado De ...   \n",
       "795                      Secretaría General De Gobierno   \n",
       "...                                                 ...   \n",
       "619                                 Secretaría De Salud   \n",
       "1115                 Partido Verde Ecologista De México   \n",
       "654   Instituto Municipal Aguascalentense Para La Cu...   \n",
       "1193                               Partido Del  Trabajo   \n",
       "1658  Instituto De Infraestructura Física Educativa ...   \n",
       "\n",
       "                                              solicitud  \\\n",
       "784   cantidad que por concepto de sueldo recibe su ...   \n",
       "183                               descripción solicitud   \n",
       "1841  solicito información sobre su dependencia cuán...   \n",
       "1586                              descripción solicitud   \n",
       "795   solicito me informe, żcuántas víctimas directa...   \n",
       "...                                                 ...   \n",
       "619   solicito una relación en formato abierto (.xls...   \n",
       "1115                              descripción solicitud   \n",
       "654   buenos días, quisiera saber a cuanto ascienden...   \n",
       "1193  buenos días, quisiera conocer su aviso de priv...   \n",
       "1658  buenos días, quisiera conocer su aviso de priv...   \n",
       "\n",
       "                                               combined  \n",
       "784   Solicitud: cantidad que por concepto de sueldo...  \n",
       "183   Solicitud: descripción solicitudDependencia:Se...  \n",
       "1841  Solicitud: solicito información sobre su depen...  \n",
       "1586  Solicitud: descripción solicitudDependencia:In...  \n",
       "795   Solicitud: solicito me informe, żcuántas vícti...  \n",
       "...                                                 ...  \n",
       "619   Solicitud: solicito una relación en formato ab...  \n",
       "1115  Solicitud: descripción solicitudDependencia:Pa...  \n",
       "654   Solicitud: buenos días, quisiera saber a cuant...  \n",
       "1193  Solicitud: buenos días, quisiera conocer su av...  \n",
       "1658  Solicitud: buenos días, quisiera conocer su av...  \n",
       "\n",
       "[2306 rows x 3 columns]"
      ]
     },
     "execution_count": 122,
     "metadata": {},
     "output_type": "execute_result"
    }
   ],
   "source": [
    "df_percent = df.sample(frac=0.8)\n",
    "df_percent"
   ]
  },
  {
   "cell_type": "code",
   "execution_count": 145,
   "metadata": {},
   "outputs": [],
   "source": [
    "df_percent.to_csv('../data/processed/train.csv', index=False)"
   ]
  },
  {
   "cell_type": "code",
   "execution_count": 123,
   "metadata": {},
   "outputs": [],
   "source": [
    "texts = df_percent['combined'].to_list()\n",
    "embeddings = model.encode(texts)"
   ]
  },
  {
   "cell_type": "code",
   "execution_count": 124,
   "metadata": {},
   "outputs": [],
   "source": [
    "df_emb =pd.DataFrame(embeddings)\n",
    "df_emb.to_csv('../data/processed/embeddings.csv', index=False)"
   ]
  },
  {
   "cell_type": "code",
   "execution_count": 125,
   "metadata": {},
   "outputs": [],
   "source": [
    "dataset = Dataset.from_pandas(df_emb)\n",
    "\n",
    "dataset_embeddings = torch.from_numpy(dataset.to_pandas().to_numpy()).to(torch.float)"
   ]
  },
  {
   "cell_type": "code",
   "execution_count": 146,
   "metadata": {},
   "outputs": [
    {
     "data": {
      "text/html": [
       "<div>\n",
       "<style scoped>\n",
       "    .dataframe tbody tr th:only-of-type {\n",
       "        vertical-align: middle;\n",
       "    }\n",
       "\n",
       "    .dataframe tbody tr th {\n",
       "        vertical-align: top;\n",
       "    }\n",
       "\n",
       "    .dataframe thead th {\n",
       "        text-align: right;\n",
       "    }\n",
       "</style>\n",
       "<table border=\"1\" class=\"dataframe\">\n",
       "  <thead>\n",
       "    <tr style=\"text-align: right;\">\n",
       "      <th></th>\n",
       "      <th>dependencia</th>\n",
       "      <th>solicitud</th>\n",
       "      <th>combined</th>\n",
       "    </tr>\n",
       "  </thead>\n",
       "  <tbody>\n",
       "    <tr>\n",
       "      <th>2</th>\n",
       "      <td>H.Congreso Del Estado De Aguascalientes</td>\n",
       "      <td>solicito se me proporcione copia de la versión...</td>\n",
       "      <td>Solicitud: solicito se me proporcione copia de...</td>\n",
       "    </tr>\n",
       "    <tr>\n",
       "      <th>4</th>\n",
       "      <td>Secretaría Desarrollo Social</td>\n",
       "      <td>solicito al instituto aguascalentense de las m...</td>\n",
       "      <td>Solicitud: solicito al instituto aguascalenten...</td>\n",
       "    </tr>\n",
       "    <tr>\n",
       "      <th>6</th>\n",
       "      <td>Supremo Tribunal De Justicia Del Estado De Agu...</td>\n",
       "      <td>descripción solicitud</td>\n",
       "      <td>Solicitud: descripción solicitudDependencia:Su...</td>\n",
       "    </tr>\n",
       "    <tr>\n",
       "      <th>8</th>\n",
       "      <td>Colegio De Educación Profesional Técnica Del E...</td>\n",
       "      <td>descripción solicitud</td>\n",
       "      <td>Solicitud: descripción solicitudDependencia:Co...</td>\n",
       "    </tr>\n",
       "    <tr>\n",
       "      <th>9</th>\n",
       "      <td>Instituto De Servicios De Salud Del Estado De ...</td>\n",
       "      <td>necesito el expediente clínico de eliezer adbe...</td>\n",
       "      <td>Solicitud: necesito el expediente clínico de e...</td>\n",
       "    </tr>\n",
       "    <tr>\n",
       "      <th>...</th>\n",
       "      <td>...</td>\n",
       "      <td>...</td>\n",
       "      <td>...</td>\n",
       "    </tr>\n",
       "    <tr>\n",
       "      <th>2857</th>\n",
       "      <td>Instituto Aguascalentense De Las Mujeres</td>\n",
       "      <td>solicito copia de los contratos vigentes forma...</td>\n",
       "      <td>Solicitud: solicito copia de los contratos vig...</td>\n",
       "    </tr>\n",
       "    <tr>\n",
       "      <th>2858</th>\n",
       "      <td>Instituto Aguascalentense De La Juventud</td>\n",
       "      <td>solicito copia de los contratos vigentes forma...</td>\n",
       "      <td>Solicitud: solicito copia de los contratos vig...</td>\n",
       "    </tr>\n",
       "    <tr>\n",
       "      <th>2859</th>\n",
       "      <td>H. Congreso Del Estado De Aguascalientes</td>\n",
       "      <td>solicito copia de los contratos vigentes forma...</td>\n",
       "      <td>Solicitud: solicito copia de los contratos vig...</td>\n",
       "    </tr>\n",
       "    <tr>\n",
       "      <th>2861</th>\n",
       "      <td>Despacho Del Ejecutivo Estatal</td>\n",
       "      <td>solicito copia de los contratos vigentes forma...</td>\n",
       "      <td>Solicitud: solicito copia de los contratos vig...</td>\n",
       "    </tr>\n",
       "    <tr>\n",
       "      <th>2878</th>\n",
       "      <td>Comision De Agua Potable, Alcantarillado Y San...</td>\n",
       "      <td>solicito copia de los contratos vigentes forma...</td>\n",
       "      <td>Solicitud: solicito copia de los contratos vig...</td>\n",
       "    </tr>\n",
       "  </tbody>\n",
       "</table>\n",
       "<p>577 rows × 3 columns</p>\n",
       "</div>"
      ],
      "text/plain": [
       "                                            dependencia  \\\n",
       "2               H.Congreso Del Estado De Aguascalientes   \n",
       "4                          Secretaría Desarrollo Social   \n",
       "6     Supremo Tribunal De Justicia Del Estado De Agu...   \n",
       "8     Colegio De Educación Profesional Técnica Del E...   \n",
       "9     Instituto De Servicios De Salud Del Estado De ...   \n",
       "...                                                 ...   \n",
       "2857           Instituto Aguascalentense De Las Mujeres   \n",
       "2858           Instituto Aguascalentense De La Juventud   \n",
       "2859           H. Congreso Del Estado De Aguascalientes   \n",
       "2861                     Despacho Del Ejecutivo Estatal   \n",
       "2878  Comision De Agua Potable, Alcantarillado Y San...   \n",
       "\n",
       "                                              solicitud  \\\n",
       "2     solicito se me proporcione copia de la versión...   \n",
       "4     solicito al instituto aguascalentense de las m...   \n",
       "6                                 descripción solicitud   \n",
       "8                                 descripción solicitud   \n",
       "9     necesito el expediente clínico de eliezer adbe...   \n",
       "...                                                 ...   \n",
       "2857  solicito copia de los contratos vigentes forma...   \n",
       "2858  solicito copia de los contratos vigentes forma...   \n",
       "2859  solicito copia de los contratos vigentes forma...   \n",
       "2861  solicito copia de los contratos vigentes forma...   \n",
       "2878  solicito copia de los contratos vigentes forma...   \n",
       "\n",
       "                                               combined  \n",
       "2     Solicitud: solicito se me proporcione copia de...  \n",
       "4     Solicitud: solicito al instituto aguascalenten...  \n",
       "6     Solicitud: descripción solicitudDependencia:Su...  \n",
       "8     Solicitud: descripción solicitudDependencia:Co...  \n",
       "9     Solicitud: necesito el expediente clínico de e...  \n",
       "...                                                 ...  \n",
       "2857  Solicitud: solicito copia de los contratos vig...  \n",
       "2858  Solicitud: solicito copia de los contratos vig...  \n",
       "2859  Solicitud: solicito copia de los contratos vig...  \n",
       "2861  Solicitud: solicito copia de los contratos vig...  \n",
       "2878  Solicitud: solicito copia de los contratos vig...  \n",
       "\n",
       "[577 rows x 3 columns]"
      ]
     },
     "execution_count": 146,
     "metadata": {},
     "output_type": "execute_result"
    }
   ],
   "source": [
    "df_rest = df.loc[~df.index.isin(df_percent.index)]\n",
    "df_rest.to_csv('../data/processed/test.csv', index=False)\n",
    "df_rest"
   ]
  },
  {
   "attachments": {},
   "cell_type": "markdown",
   "metadata": {},
   "source": [
    "### Evaluate"
   ]
  },
  {
   "cell_type": "code",
   "execution_count": 127,
   "metadata": {},
   "outputs": [
    {
     "data": {
      "text/plain": [
       "1832"
      ]
     },
     "execution_count": 127,
     "metadata": {},
     "output_type": "execute_result"
    }
   ],
   "source": [
    "example_eval = df_rest['combined'].sample(n=1)\n",
    "index = example_eval.index\n",
    "idx = index[0]\n",
    "idx"
   ]
  },
  {
   "cell_type": "code",
   "execution_count": 128,
   "metadata": {},
   "outputs": [
    {
     "data": {
      "text/plain": [
       "dependencia            Universidad Politécnica De Aguascalientes\n",
       "solicitud      por medio de esta solicitud de acceso a la inf...\n",
       "combined       Solicitud: por medio de esta solicitud de acce...\n",
       "Name: 1832, dtype: object"
      ]
     },
     "execution_count": 128,
     "metadata": {},
     "output_type": "execute_result"
    }
   ],
   "source": [
    "df.iloc[idx]"
   ]
  },
  {
   "cell_type": "code",
   "execution_count": 129,
   "metadata": {},
   "outputs": [
    {
     "data": {
      "text/plain": [
       "'Solicitud: por medio de esta solicitud de acces...'"
      ]
     },
     "execution_count": 129,
     "metadata": {},
     "output_type": "execute_result"
    }
   ],
   "source": [
    "request = example_eval.to_string(index=False)\n",
    "request"
   ]
  },
  {
   "cell_type": "code",
   "execution_count": 130,
   "metadata": {},
   "outputs": [],
   "source": [
    "\n",
    "output = model.encode(request)\n",
    "query_embeddings = torch.FloatTensor(output)"
   ]
  },
  {
   "cell_type": "code",
   "execution_count": 131,
   "metadata": {},
   "outputs": [
    {
     "data": {
      "text/plain": [
       "[[{'corpus_id': 349, 'score': 0.8444914817810059},\n",
       "  {'corpus_id': 2028, 'score': 0.8444793820381165},\n",
       "  {'corpus_id': 963, 'score': 0.8279389142990112}]]"
      ]
     },
     "execution_count": 131,
     "metadata": {},
     "output_type": "execute_result"
    }
   ],
   "source": [
    "hits = semantic_search(query_embeddings, dataset_embeddings, top_k=3)\n",
    "hits"
   ]
  },
  {
   "cell_type": "code",
   "execution_count": 132,
   "metadata": {},
   "outputs": [],
   "source": [
    "id1 = hits[0][0]['corpus_id']\n",
    "id2 = hits[0][1]['corpus_id']\n",
    "id3 = hits[0][2]['corpus_id']"
   ]
  },
  {
   "cell_type": "code",
   "execution_count": 133,
   "metadata": {},
   "outputs": [
    {
     "data": {
      "text/plain": [
       "dependencia             Instituto De Educación De Aguascalientes\n",
       "solicitud      solicito del c. víctor hugo cervantes nájera l...\n",
       "combined       Solicitud: solicito del c. víctor hugo cervant...\n",
       "Name: 349, dtype: object"
      ]
     },
     "execution_count": 133,
     "metadata": {},
     "output_type": "execute_result"
    }
   ],
   "source": [
    "df.iloc[id1]"
   ]
  },
  {
   "cell_type": "code",
   "execution_count": 134,
   "metadata": {},
   "outputs": [
    {
     "data": {
      "text/plain": [
       "dependencia                    Coordinación General De Movilidad\n",
       "solicitud      quiero solicitarle la siguiente información:- ...\n",
       "combined       Solicitud: quiero solicitarle la siguiente inf...\n",
       "Name: 2028, dtype: object"
      ]
     },
     "execution_count": 134,
     "metadata": {},
     "output_type": "execute_result"
    }
   ],
   "source": [
    "df.iloc[id2]"
   ]
  },
  {
   "cell_type": "code",
   "execution_count": 135,
   "metadata": {},
   "outputs": [
    {
     "data": {
      "text/plain": [
       "dependencia            Universidad Tecnológica De Aguascalientes\n",
       "solicitud      buenos días, quisiera saber su protocolo de se...\n",
       "combined       Solicitud: buenos días, quisiera saber su prot...\n",
       "Name: 963, dtype: object"
      ]
     },
     "execution_count": 135,
     "metadata": {},
     "output_type": "execute_result"
    }
   ],
   "source": [
    "df.iloc[id3]"
   ]
  },
  {
   "cell_type": "code",
   "execution_count": 144,
   "metadata": {},
   "outputs": [
    {
     "data": {
      "text/plain": [
       "['Universidad Tecnológica De Aguascalientes']"
      ]
     },
     "execution_count": 144,
     "metadata": {},
     "output_type": "execute_result"
    }
   ],
   "source": [
    "df.iloc[id3].str.split(pat=\"/\")[0]"
   ]
  }
 ],
 "metadata": {
  "kernelspec": {
   "display_name": "ai4foia-Krwj8ar1",
   "language": "python",
   "name": "python3"
  },
  "language_info": {
   "codemirror_mode": {
    "name": "ipython",
    "version": 3
   },
   "file_extension": ".py",
   "mimetype": "text/x-python",
   "name": "python",
   "nbconvert_exporter": "python",
   "pygments_lexer": "ipython3",
   "version": "3.8.10"
  },
  "orig_nbformat": 4
 },
 "nbformat": 4,
 "nbformat_minor": 2
}
